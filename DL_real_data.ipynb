{
 "cells": [
  {
   "cell_type": "markdown",
   "id": "e04eae17-1970-46f3-bcf9-0d3b2cb6ced9",
   "metadata": {},
   "source": [
    "### Import packages and prepare data"
   ]
  },
  {
   "cell_type": "code",
   "execution_count": null,
   "id": "c855c42d-9ab3-4ab2-9e5d-c4459604a5e4",
   "metadata": {},
   "outputs": [],
   "source": [
    "# Import packages\n",
    "# Basic\n",
    "import pandas as pd\n",
    "import numpy as np\n",
    "import random\n",
    "import matplotlib.pyplot as plt\n",
    "from termcolor import colored\n",
    "\n",
    "# Data analyze\n",
    "from sklearn.preprocessing import StandardScaler\n",
    "from sklearn.model_selection import train_test_split\n",
    "\n",
    "# Deep learning\n",
    "import tensorflow as tf\n",
    "from tensorflow import keras\n",
    "from sklearn.model_selection import GridSearchCV, RepeatedKFold, cross_val_score\n",
    "from sklearn.metrics import mean_absolute_error, r2_score, root_mean_squared_error"
   ]
  },
  {
   "cell_type": "code",
   "execution_count": null,
   "id": "b5533420-207f-491c-ad76-e96c17ac27a8",
   "metadata": {},
   "outputs": [],
   "source": [
    "# Read the dataset\n",
    "df = pd.read_csv('Real_data.csv')\n",
    "\n",
    "# Data preprocess\n",
    "df.rename(columns={'ID_new': 'CID'}, inplace=True)\n",
    "df = df[['CID', 'AMT', 'TIME', 'TD', 'LNDV']]\n",
    "# Apply exponential function to 'LNDV' while keeping zeros unchanged\n",
    "df['LNDV'] = df['LNDV'].apply(lambda x: np.exp(x) if x != 0 else 0)\n",
    "df['NDV'] = df.groupby('CID')['LNDV'].shift(-1)\n",
    "df = df.dropna(subset=['NDV'])\n",
    "\n",
    "# Data normalization\n",
    "df_old = df.copy()\n",
    "scaler = StandardScaler()\n",
    "df[['AMT', 'TD', 'LNDV', 'NDV']] = scaler.fit_transform(df[['AMT','TD', 'LNDV', 'NDV']])"
   ]
  },
  {
   "cell_type": "code",
   "execution_count": null,
   "id": "73891ff5-af03-4a35-9c73-049df902db71",
   "metadata": {},
   "outputs": [],
   "source": [
    "# Split data into training and test sets\n",
    "cids = df['CID'].unique()\n",
    "train_cids, test_cids = train_test_split(cids, test_size=0.3, random_state=12)\n",
    "train_df = df[df['CID'].isin(train_cids)]\n",
    "test_df = df[df['CID'].isin(test_cids)]\n",
    "\n",
    "X_train = train_df[['TD', 'AMT', 'LNDV']]\n",
    "y_train = train_df['NDV']\n",
    "X_test = test_df[['TD', 'AMT', 'LNDV']]\n",
    "y_test = test_df['NDV']"
   ]
  },
  {
   "cell_type": "markdown",
   "id": "522b7aa0-9a7a-4ff0-a83c-c7eb13209cf9",
   "metadata": {},
   "source": [
    "### Run DL methods to get the predictions"
   ]
  },
  {
   "cell_type": "code",
   "execution_count": null,
   "id": "1aa82c91-28c6-406b-aff0-9c603c8cc2bd",
   "metadata": {},
   "outputs": [],
   "source": [
    "def reverse_normalize_column(normalized_col, original_col):\n",
    "    mean = original_col.mean()\n",
    "    std = original_col.std()\n",
    "    return normalized_col * std + mean"
   ]
  },
  {
   "cell_type": "code",
   "execution_count": null,
   "id": "ca516a2a-e4d3-4e9a-8668-0e44371f9a75",
   "metadata": {},
   "outputs": [],
   "source": [
    "early_stopping = keras.callbacks.EarlyStopping(\n",
    "    monitor='val_loss',  # Monitor the training loss\n",
    "    patience=20  # Stop training if no improvement for 20 consecutive epochs\n",
    ")"
   ]
  },
  {
   "cell_type": "code",
   "execution_count": null,
   "id": "036c0991-7ba2-4828-80c0-4532e4963e1c",
   "metadata": {},
   "outputs": [],
   "source": [
    "# Set the model\n",
    "# This is a Neural Network which 4 layers. \n",
    "model = keras.Sequential([\n",
    "    keras.Input(shape=(X_train.shape[1],)),\n",
    "    keras.layers.Flatten(),\n",
    "    keras.layers.Dense(64, activation=tf.nn.relu),\n",
    "    keras.layers.Dense(8, activation=tf.nn.relu),\n",
    "    keras.layers.Dense(1), \n",
    "])\n",
    "\n",
    "# Options: SGD, RMSprop, Adagrad, Adadelta, Adam, Adamax, Nadam\n",
    "opt = keras.optimizers.Adamax(learning_rate=0.01)\n",
    "model.summary()"
   ]
  },
  {
   "cell_type": "code",
   "execution_count": null,
   "id": "4fb6dc7d-7256-4bac-84d5-6a229512e1e0",
   "metadata": {
    "scrolled": true
   },
   "outputs": [],
   "source": [
    "model.compile(optimizer=opt, loss='mean_squared_error', metrics=['mean_absolute_error', 'root_mean_squared_error', 'r2_score'])\n",
    "model.fit(X_train, y_train, epochs=100, batch_size=64, validation_split=0.3, callbacks=[early_stopping], verbose=0)"
   ]
  },
  {
   "cell_type": "code",
   "execution_count": null,
   "id": "800f7b6b-120c-471f-920c-bcd4f2837c73",
   "metadata": {},
   "outputs": [],
   "source": [
    "y_pred = model.predict(X_test)\n",
    "pred_real = reverse_normalize_column(y_pred, df_old['NDV'])"
   ]
  },
  {
   "cell_type": "code",
   "execution_count": null,
   "id": "69d94343-8996-4197-9ef7-e6e4073afc6b",
   "metadata": {},
   "outputs": [],
   "source": [
    "# Calculate RMSE\n",
    "rmse = root_mean_squared_error(y_test, y_pred)\n",
    "print(f\"Root Mean Squared Error (RMSE): {rmse}\")\n",
    "\n",
    "# Calculate R^2 Score\n",
    "r2 = r2_score(y_test, y_pred)\n",
    "print(f\"R^2 Score: {r2}\")"
   ]
  },
  {
   "cell_type": "code",
   "execution_count": null,
   "id": "3fd3eacb-6d9f-4ec7-9afc-524c0e6282b6",
   "metadata": {},
   "outputs": [],
   "source": []
  },
  {
   "cell_type": "code",
   "execution_count": null,
   "id": "7450d8e0-9ca0-4d26-8713-775dfb7f40ca",
   "metadata": {},
   "outputs": [],
   "source": [
    "X_train = X_train.values.reshape(-1, 1, 3)\n",
    "X_test  = X_test.values.reshape(-1, 1, 3)"
   ]
  },
  {
   "cell_type": "code",
   "execution_count": null,
   "id": "13fb32ec-6165-47ad-b3c2-be07d3576969",
   "metadata": {},
   "outputs": [],
   "source": [
    "# Set the GRU model \n",
    "grumodel = keras.Sequential([\n",
    "    keras.Input(shape=(1,3)),\n",
    "    keras.layers.GRU(64),\n",
    "    keras.layers.Dense(32, activation=tf.nn.softmax),\n",
    "    keras.layers.Dense(8, activation=tf.nn.relu),\n",
    "    keras.layers.Dense(1), \n",
    "])\n",
    "\n",
    "# Options: RMSprop, Adam, Adamax, Nadam\n",
    "opt = keras.optimizers.RMSprop(learning_rate=0.001)\n",
    "grumodel.summary()"
   ]
  },
  {
   "cell_type": "code",
   "execution_count": null,
   "id": "8e427595-973b-4f3c-bd38-7b9b6eec79c7",
   "metadata": {
    "scrolled": true
   },
   "outputs": [],
   "source": [
    "grumodel.compile(optimizer=opt,loss='mean_squared_error', metrics=['mean_absolute_error', 'root_mean_squared_error', 'r2_score'])\n",
    "grumodel.fit(X_train, y_train, epochs=100, batch_size=64, validation_split=0.3, callbacks=[early_stopping], verbose=0)"
   ]
  },
  {
   "cell_type": "code",
   "execution_count": null,
   "id": "d98b6048-4b24-404f-b556-31b8383c2060",
   "metadata": {},
   "outputs": [],
   "source": [
    "y_pred_gru = grumodel.predict(X_test)\n",
    "pred_real_gru = reverse_normalize_column(y_pred_gru, df_old['NDV'])"
   ]
  },
  {
   "cell_type": "code",
   "execution_count": null,
   "id": "5b8ef5dd-cdb7-4018-bec0-a1f93d67a13a",
   "metadata": {},
   "outputs": [],
   "source": [
    "# Calculate RMSE\n",
    "rmse_gru = root_mean_squared_error(y_test, y_pred_gru)\n",
    "print(f\"Root Mean Squared Error (RMSE): {rmse_gru}\")\n",
    "\n",
    "# Calculate R^2 Score\n",
    "r2_gru = r2_score(y_test, y_pred_gru)\n",
    "print(f\"R^2 Score: {r2_gru}\")"
   ]
  },
  {
   "cell_type": "code",
   "execution_count": null,
   "id": "eb9d48c9-186b-47c7-b424-b6ec8bb0fb0d",
   "metadata": {},
   "outputs": [],
   "source": []
  },
  {
   "cell_type": "code",
   "execution_count": null,
   "id": "efdb01d5-9758-4630-baf7-d812c73426eb",
   "metadata": {},
   "outputs": [],
   "source": [
    "# Set the LSTM model\n",
    "lstmmodel = keras.Sequential([\n",
    "    keras.Input(shape=(1,3)),\n",
    "    keras.layers.LSTM(64),\n",
    "    keras.layers.Dense(32, activation=tf.nn.softmax),\n",
    "    keras.layers.Dense(8, activation=tf.nn.relu),\n",
    "    keras.layers.Dense(1), \n",
    "])\n",
    "\n",
    "# Options: RMSprop, Adam, Adamax, Nadam\n",
    "opt = keras.optimizers.RMSprop(learning_rate=0.01)\n",
    "lstmmodel.summary()"
   ]
  },
  {
   "cell_type": "code",
   "execution_count": null,
   "id": "1ce75d42-71ba-407e-96f8-87d64f314b59",
   "metadata": {},
   "outputs": [],
   "source": [
    "lstmmodel.compile(optimizer=opt,loss='mean_squared_error', metrics=['mean_absolute_error', 'root_mean_squared_error', 'r2_score'])\n",
    "lstmmodel.fit(X_train, y_train, epochs=100, batch_size=64, validation_split=0.3, callbacks=[early_stopping], verbose=0)"
   ]
  },
  {
   "cell_type": "code",
   "execution_count": null,
   "id": "54611ce9-87f8-4d9d-9cca-8702f7693fb5",
   "metadata": {},
   "outputs": [],
   "source": [
    "y_pred_lstm = lstmmodel.predict(X_test)\n",
    "pred_real_lstm = reverse_normalize_column(y_pred_lstm, df_old['NDV'])"
   ]
  },
  {
   "cell_type": "code",
   "execution_count": null,
   "id": "37fa5878-6c4f-40fc-9f6e-14816427486f",
   "metadata": {},
   "outputs": [],
   "source": [
    "# Calculate RMSE\n",
    "rmse_lstm = root_mean_squared_error(y_test, y_pred_lstm)\n",
    "print(f\"Root Mean Squared Error (RMSE): {rmse_lstm}\")\n",
    "\n",
    "# Calculate R^2 Score\n",
    "r2_lstm = r2_score(y_test, y_pred_lstm)\n",
    "print(f\"R^2 Score: {r2_lstm}\")"
   ]
  },
  {
   "cell_type": "markdown",
   "id": "0d27f553-b447-44c5-b3ae-510fba4e29f5",
   "metadata": {},
   "source": [
    "### Summarize the results for evaluation"
   ]
  },
  {
   "cell_type": "code",
   "execution_count": null,
   "id": "83a9b75a-fa22-4446-9d8e-150691f8b8b4",
   "metadata": {
    "scrolled": true
   },
   "outputs": [],
   "source": [
    "# Flatten the arrays\n",
    "pred_real_flat = pred_real.flatten()\n",
    "pred_real_gru_flat = pred_real_gru.flatten()\n",
    "pred_real_lstm_flat = pred_real_lstm.flatten()\n",
    "\n",
    "# Create the DataFrame\n",
    "pred_df = pd.DataFrame({\n",
    "    'NN': pred_real_flat,\n",
    "    'GRU': pred_real_gru_flat,\n",
    "    'LSTM': pred_real_lstm_flat\n",
    "})"
   ]
  },
  {
   "cell_type": "code",
   "execution_count": null,
   "id": "1aab869f-8b86-4151-8669-6746b979e88c",
   "metadata": {},
   "outputs": [],
   "source": [
    "# Reset the indices of both dataframes\n",
    "test_data_reset = test_df.reset_index(drop=True)\n",
    "pred_df_reset = pred_df.reset_index(drop=True)\n",
    "# Concatenate the dataframes along axis 1\n",
    "res = pd.concat([test_data_reset, pred_df_reset], axis=1)"
   ]
  },
  {
   "cell_type": "code",
   "execution_count": null,
   "id": "c16bff81-3fae-4e9f-8d40-fa37fe0b5b0f",
   "metadata": {},
   "outputs": [],
   "source": [
    "df_new = res.copy()\n",
    "\n",
    "# Reverse normalization for 'AMT', 'TD', 'LNDV', and 'NDV'\n",
    "columns_to_reverse = ['AMT', 'TD', 'LNDV', 'NDV']\n",
    "for col in columns_to_reverse:\n",
    "    df_new[col] = reverse_normalize_column(df_new[col], df_old[col])\n",
    "\n",
    "df_new = df_new[[\"CID\", \"TIME\",\"LNDV\", \"NDV\", \"NN\", \"GRU\", \"LSTM\"]]"
   ]
  }
 ],
 "metadata": {
  "kernelspec": {
   "display_name": "Python 3 (ipykernel)",
   "language": "python",
   "name": "python3"
  },
  "language_info": {
   "codemirror_mode": {
    "name": "ipython",
    "version": 3
   },
   "file_extension": ".py",
   "mimetype": "text/x-python",
   "name": "python",
   "nbconvert_exporter": "python",
   "pygments_lexer": "ipython3",
   "version": "3.10.14"
  }
 },
 "nbformat": 4,
 "nbformat_minor": 5
}

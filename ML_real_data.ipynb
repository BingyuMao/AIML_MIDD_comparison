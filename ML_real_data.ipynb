{
 "cells": [
  {
   "cell_type": "markdown",
   "id": "5edb0458-458e-40bb-a5fa-b777de50344f",
   "metadata": {},
   "source": [
    "### Import packages and prepare data"
   ]
  },
  {
   "cell_type": "code",
   "execution_count": null,
   "id": "bbeffe15-fdaf-424c-83f6-d651b90d68a3",
   "metadata": {},
   "outputs": [],
   "source": [
    "# Import packages\n",
    "# Basic\n",
    "import pandas as pd\n",
    "import numpy as np\n",
    "import random\n",
    "import matplotlib.pyplot as plt\n",
    "\n",
    "# Data analyze\n",
    "from scipy import stats\n",
    "from sklearn.preprocessing import StandardScaler\n",
    "from sklearn.model_selection import train_test_split\n",
    "from sklearn.model_selection import GridSearchCV, RepeatedKFold, cross_val_score\n",
    "from sklearn.metrics import mean_absolute_error, mean_squared_error, r2_score, root_mean_squared_error\n",
    "\n",
    "# Models\n",
    "from sklearn.linear_model import LinearRegression, Lasso\n",
    "import xgboost as xgb"
   ]
  },
  {
   "cell_type": "code",
   "execution_count": null,
   "id": "f172af37-a5ca-46ad-8e6d-3d69ed8fb225",
   "metadata": {},
   "outputs": [],
   "source": [
    "# Set some numbers\n",
    "SEED = 12\n",
    "METRIC = 'neg_root_mean_squared_error' #the main metric we will use for grid search and cross validation"
   ]
  },
  {
   "cell_type": "code",
   "execution_count": null,
   "id": "29ac952f-3840-4f4a-b55c-c38753e95916",
   "metadata": {},
   "outputs": [],
   "source": [
    "# Rread the dataset\n",
    "df = pd.read_csv('Real_data.csv')\n",
    "\n",
    "# Data preprocess\n",
    "df.rename(columns={'ID_new': 'CID'}, inplace=True)\n",
    "df = df[['CID', 'AMT', 'TIME', 'TD', 'LNDV']]\n",
    "# Apply exponential function to 'LNDV' while keeping zeros unchanged\n",
    "df['LNDV'] = df['LNDV'].apply(lambda x: np.exp(x) if x != 0 else 0)\n",
    "df['NDV'] = df.groupby('CID')['LNDV'].shift(-1)\n",
    "df = df.dropna(subset=['NDV'])\n",
    "\n",
    "# Data normalization\n",
    "df_old = df.copy()\n",
    "scaler = StandardScaler()\n",
    "df[['AMT', 'TD', 'LNDV', 'NDV']] = scaler.fit_transform(df[['AMT','TD', 'LNDV', 'NDV']])"
   ]
  },
  {
   "cell_type": "code",
   "execution_count": null,
   "id": "ea7db2ff-4e25-461a-be06-541dbe619b67",
   "metadata": {},
   "outputs": [],
   "source": [
    "# Split data into training and test sets\n",
    "cids = df['CID'].unique()\n",
    "train_cids, test_cids = train_test_split(cids, test_size=0.3, random_state=SEED)\n",
    "train_df = df[df['CID'].isin(train_cids)]\n",
    "test_df = df[df['CID'].isin(test_cids)]\n",
    "\n",
    "X_train = train_df[['TD', 'AMT', 'LNDV']]\n",
    "y_train = train_df['NDV']\n",
    "X_test = test_df[['TD', 'AMT', 'LNDV']]\n",
    "y_test = test_df['NDV']"
   ]
  },
  {
   "cell_type": "markdown",
   "id": "84956bae-dca8-4107-83d1-e7de945cf407",
   "metadata": {},
   "source": [
    "### Run ML methods to get the predictions"
   ]
  },
  {
   "cell_type": "code",
   "execution_count": null,
   "id": "cc1b31f9-5d77-411a-ac53-826f092e0eed",
   "metadata": {},
   "outputs": [],
   "source": [
    "# Define ML models\n",
    "models = {\n",
    "    'LR': LinearRegression(),\n",
    "    'Lasso': Lasso(),\n",
    "    'XGBoost': xgb.XGBRegressor(objective='reg:squarederror', seed=SEED)\n",
    "}"
   ]
  },
  {
   "cell_type": "code",
   "execution_count": null,
   "id": "6049903a-df65-4c0e-9f16-689a1ee2f953",
   "metadata": {},
   "outputs": [],
   "source": [
    "# Grid search to find the best hyperparameter set\n",
    "param_grids = {\n",
    "    'LR': {},\n",
    "    'Lasso': {'alpha': [0.01, 0.1, 1]},\n",
    "    'XGBoost': {'n_estimators': [50, 100, 300], 'max_depth': [3, 5, 10], 'learning_rate': [0.05, 0.1, 0.3]}\n",
    "}\n",
    "\n",
    "best_estimators = {}\n",
    "for name, model in models.items():\n",
    "    print(f\"Grid search for {name}\")\n",
    "    grid_search = GridSearchCV(model, param_grids[name], cv=10, scoring=METRIC, n_jobs=-1)\n",
    "    grid_search.fit(X_train, y_train)\n",
    "    best_estimators[name] = grid_search.best_estimator_\n",
    "    print(f\"Best parameters for {name}: {grid_search.best_params_}\")"
   ]
  },
  {
   "cell_type": "code",
   "execution_count": null,
   "id": "97af4f1f-40f9-4062-a5b8-e31246c93492",
   "metadata": {},
   "outputs": [],
   "source": [
    "def reverse_normalize_column(normalized_col, original_col):\n",
    "    mean = original_col.mean()\n",
    "    std = original_col.std()\n",
    "    return normalized_col * std + mean"
   ]
  },
  {
   "cell_type": "code",
   "execution_count": null,
   "id": "08553c45-d627-40a9-8dda-838f0718adef",
   "metadata": {},
   "outputs": [],
   "source": [
    "# Fit models with best hyperparameters and evaluate\n",
    "metrics = {}\n",
    "preds = {}\n",
    "\n",
    "for name, model in best_estimators.items():\n",
    "    model.fit(X_train, y_train)\n",
    "    pred = model.predict(X_test)\n",
    "    pred_real = reverse_normalize_column(pred, df_old['NDV'])\n",
    "    preds[name] = pred_real\n",
    "      \n",
    "    metrics[name] = {\n",
    "        'RMSE': root_mean_squared_error(y_test, pred),\n",
    "        'MAE': mean_absolute_error(y_test, pred),\n",
    "        'R^2': r2_score(y_test, pred)\n",
    "    }\n",
    "    print(f\"Evaluation for {name}: RMSE={metrics[name]['RMSE']:.4f}, MAE={metrics[name]['MAE']:.4f}, R^2={metrics[name]['R^2']:.4f}\")"
   ]
  },
  {
   "cell_type": "markdown",
   "id": "340767ad-7d01-4f05-a4f0-8dcbbf79a9fd",
   "metadata": {},
   "source": [
    "### Get AUCs for evaluation"
   ]
  },
  {
   "cell_type": "code",
   "execution_count": null,
   "id": "c358accc-3b92-4916-8dd8-2ced5e43dcc0",
   "metadata": {},
   "outputs": [],
   "source": [
    "pred_df = pd.DataFrame(preds)\n",
    "\n",
    "# Reset the indices of both dataframes\n",
    "test_data_reset = test_df.reset_index(drop=True)\n",
    "pred_df_reset = pred_df.reset_index(drop=True)\n",
    "# Concatenate the dataframes along axis 1\n",
    "res = pd.concat([test_data_reset, pred_df_reset], axis=1)"
   ]
  },
  {
   "cell_type": "code",
   "execution_count": null,
   "id": "d1fe5f9a-1a94-4655-bc36-ea4b7e18c71e",
   "metadata": {},
   "outputs": [],
   "source": [
    "df_new = res.copy()\n",
    "\n",
    "# Reverse normalization for 'AMT', 'TD', 'LNDV', and 'NDV'\n",
    "columns_to_reverse = ['AMT', 'TD', 'LNDV', 'NDV']\n",
    "for col in columns_to_reverse:\n",
    "    df_new[col] = reverse_normalize_column(df_new[col], df_old[col])\n",
    "\n",
    "# Apply exponential function to 'NDV', 'LR', 'Lasso', 'XGBoost'\n",
    "df_new = df_new[[\"CID\", \"TIME\",\"LNDV\", \"NDV\",\"LR\", \"Lasso\", \"XGBoost\"]]"
   ]
  },
  {
   "cell_type": "code",
   "execution_count": null,
   "id": "a0025b71-06a0-4dff-995b-01094ccf8f33",
   "metadata": {},
   "outputs": [],
   "source": [
    "# Select a random patient (CID)\n",
    "random_patient = np.random.choice(df_new['CID'].unique())\n",
    "\n",
    "# Filter the data for the selected patient\n",
    "patient_data = df_new[df_new['CID'] == random_patient]\n",
    "\n",
    "# Extract Time and Concn columns for the real concentration curve\n",
    "time = patient_data['TIME']\n",
    "real_concn = patient_data['NDV']\n",
    "\n",
    "# Extract predicted concentration columns for the predicted curves\n",
    "predicted_columns = ['LR', 'Lasso', 'XGBoost']\n",
    "patient_data.loc[patient_data.index[0], predicted_columns] = 0\n",
    "\n",
    "# Initialize dictionary to store AUC values\n",
    "auc_values = {}\n",
    "\n",
    "# Plotting\n",
    "plt.figure(figsize=(15, 10))\n",
    "\n",
    "# Plot the real concentration curve\n",
    "plt.subplot(2, 3, 1)\n",
    "plt.plot(time, real_concn, label='Real Concentration', color='blue')\n",
    "plt.title(f'Patient {random_patient} - Real Concentration')\n",
    "plt.xlabel('Time')\n",
    "plt.ylabel('Concentration')\n",
    "plt.legend()\n",
    "\n",
    "# Calculate and plot AUC for the real concentration curve\n",
    "auc_real = np.trapz(real_concn, time)\n",
    "auc_values['Real'] = auc_real\n",
    "plt.text(0.5, 0.8, f'AUC = {auc_real:.2f}', transform=plt.gca().transAxes, fontsize=10, verticalalignment='top')\n",
    "\n",
    "# Plot the predicted concentration curves\n",
    "for i, col in enumerate(predicted_columns, start=1):\n",
    "    plt.subplot(2, 3, i+1)\n",
    "    plt.plot(time, real_concn, label='Real Concentration', color='blue')\n",
    "    plt.plot(time, patient_data[col], label=f'Predicted {col}', color='red', linestyle='--')\n",
    "    plt.title(f'Patient {random_patient} - Predicted {col}')\n",
    "    plt.xlabel('Time')\n",
    "    plt.ylabel('Concentration')\n",
    "    plt.legend()\n",
    "\n",
    "    # Calculate and plot AUC for the predicted concentration curve\n",
    "    auc_pred = np.trapz(patient_data[col], time)\n",
    "    auc_values[col] = auc_pred\n",
    "    plt.text(0.5, 0.8, f'AUC = {auc_pred:.2f}', transform=plt.gca().transAxes, fontsize=10, verticalalignment='top')\n",
    "\n",
    "plt.tight_layout()\n",
    "plt.show()"
   ]
  }
 ],
 "metadata": {
  "kernelspec": {
   "display_name": "Python 3 (ipykernel)",
   "language": "python",
   "name": "python3"
  },
  "language_info": {
   "codemirror_mode": {
    "name": "ipython",
    "version": 3
   },
   "file_extension": ".py",
   "mimetype": "text/x-python",
   "name": "python",
   "nbconvert_exporter": "python",
   "pygments_lexer": "ipython3",
   "version": "3.10.14"
  }
 },
 "nbformat": 4,
 "nbformat_minor": 5
}
